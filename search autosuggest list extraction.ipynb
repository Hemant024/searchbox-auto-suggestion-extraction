{
 "cells": [
  {
   "cell_type": "markdown",
   "id": "129b09fc",
   "metadata": {},
   "source": [
    "## Cheapoair.com autosuggestion list extraction"
   ]
  },
  {
   "cell_type": "code",
   "execution_count": null,
   "id": "3767c3a7",
   "metadata": {},
   "outputs": [],
   "source": [
    "from selenium import webdriver\n",
    "from selenium.webdriver.common.keys import Keys\n",
    "import pandas as pd\n",
    "import xlsxwriter\n",
    "from time import sleep\n",
    "from string import ascii_lowercase\n",
    "import itertools\n",
    "import time\n",
    "\n",
    "\n",
    "start1 = time.time()\n",
    "path  = r'C:\\Program Files (x86)\\Google\\chromedriver.exe'\n",
    "driver = webdriver.Chrome(r'C:\\Program Files (x86)\\Google\\chromedriver.exe')\n",
    "driver.get(\"https://www.cheapoair.com/hotels/\")\n",
    "driver.find_element_by_xpath('/html/body/form/div/div/div[1]/div[1]/section/div[1]/div[2]/div/div/div[2]/div/div/div[2]').click()\n",
    "\n",
    "\n",
    "def scrap(input_):\n",
    "\n",
    "    \n",
    "    link = driver.find_element_by_xpath('//*[@id=\"from\"]')\n",
    "    link.send_keys(input_)\n",
    "    sleep(1.5)\n",
    "    link1 = driver.find_element_by_xpath(\"//ul[@class='suggestion-box__list autoSuggest__list']\").text\n",
    "    new = link1.split(\"\\n\")\n",
    "    del new[0]\n",
    "    \n",
    "    \n",
    "    lst = []\n",
    "    for i in new:\n",
    "        lst.append(i.split(','))\n",
    "        \n",
    "    my_columns = ['character','Place','State', 'Country']\n",
    "    df = pd.DataFrame(columns = my_columns)\n",
    "\n",
    "    for i in range(len(lst)):\n",
    "        if len(lst[i]) == 2:\n",
    "            lst[i].insert(0,\"N/A\")\n",
    "        lst[i].insert(0,input_)\n",
    "\n",
    "    temp = []\n",
    "    for i in range(len(lst)):\n",
    "        df = df.append(pd.Series([lst[i][0],lst[i][1],lst[i][2],lst[i][3]],index = my_columns),ignore_index = True)\n",
    "    \n",
    "    index = pd.Index(range(1, len(lst)+1, 1))\n",
    "    df = df.set_index(index)\n",
    "    link.send_keys('\\b')\n",
    "    return df \n",
    "                 \n",
    "my_columns = ['character','Place','State', 'Country']\n",
    "final_df = pd.DataFrame(columns = my_columns)\n",
    "\n",
    "\n",
    "def iter_all_strings():\n",
    "    for size in itertools.count(1):\n",
    "        for s in itertools.product(ascii_lowercase, repeat=size):\n",
    "            yield \"\".join(s)\n",
    "                 \n",
    "for i in iter_all_strings():\n",
    "    df1 = scrap(i)\n",
    "    final_df = pd.concat([final_df, df1])\n",
    "    if i =='zzzz':\n",
    "        break\n",
    "        \n",
    "writer = pd.ExcelWriter('last_sample.xlsx', engine= 'xlsxwriter')\n",
    "final_df.to_excel(writer,'last_sample', index = True)\n",
    "writer.save()\n",
    "end = time.time()\n",
    "print(\"time taken:  \",end- start1,\"sec\")"
   ]
  },
  {
   "cell_type": "code",
   "execution_count": null,
   "id": "ad039b28",
   "metadata": {},
   "outputs": [],
   "source": []
  }
 ],
 "metadata": {
  "kernelspec": {
   "display_name": "Python 3 (ipykernel)",
   "language": "python",
   "name": "python3"
  },
  "language_info": {
   "codemirror_mode": {
    "name": "ipython",
    "version": 3
   },
   "file_extension": ".py",
   "mimetype": "text/x-python",
   "name": "python",
   "nbconvert_exporter": "python",
   "pygments_lexer": "ipython3",
   "version": "3.9.7"
  }
 },
 "nbformat": 4,
 "nbformat_minor": 5
}
